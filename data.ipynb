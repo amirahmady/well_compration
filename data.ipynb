{
 "cells": [
  {
   "cell_type": "code",
   "execution_count": null,
   "metadata": {},
   "outputs": [],
   "source": [
    "import random\n",
    "import numpy as np\n",
    "from matplotlib import pyplot\n",
    "from scipy.stats import ks_2samp, pearsonr\n",
    "\n",
    "my_data = np.genfromtxt('data.csv', delimiter=',')\n",
    "d=list(range(len(my_data)))\n",
    "for i in range(len(d)):\n",
    "    d[i]=my_data[i]\n",
    "    d[i] = d[i][np.logical_not(np.isnan(d[i]))]\n",
    "# d1= my_data[0]\n",
    "# d2= my_data[1]\n",
    "# d1 = d1[np.logical_not(np.isnan(d1))]\n",
    "# d2 = d2[np.logical_not(np.isnan(d2))]\n",
    "# print(my_data)\n",
    "# y = [random.gauss(4,2) for _ in range(400)]\n",
    "\n",
    "\n",
    "ordinal = lambda n: \"%d%s\" % (n,\"tsnrhtdd\"[(n//10%10!=1)*(n%10<4)*n%10::4])\n",
    "\n"
   ]
  },
  {
   "cell_type": "code",
   "execution_count": null,
   "metadata": {},
   "outputs": [],
   "source": [
    "pear=list()\n",
    "for i,di in enumerate(d[:-1]):\n",
    "    pyplot.plot(di,label= ordinal(i+1)+' data range')\n",
    "    pear.append(pearsonr(di,d[-1]))\n",
    "# pyplot.plot(d2,label='2nd data')\n",
    "pyplot.legend(loc='upper right')\n",
    "pyplot.show()\n",
    "# pearsonr(d,d2)\n",
    "print(pear)"
   ]
  },
  {
   "cell_type": "code",
   "execution_count": null,
   "metadata": {},
   "outputs": [],
   "source": []
  },
  {
   "cell_type": "code",
   "execution_count": null,
   "metadata": {},
   "outputs": [],
   "source": []
  },
  {
   "cell_type": "code",
   "execution_count": null,
   "metadata": {},
   "outputs": [],
   "source": []
  }
 ],
 "metadata": {
  "kernelspec": {
   "display_name": "firstEnv",
   "language": "python",
   "name": "firstenv"
  },
  "language_info": {
   "codemirror_mode": {
    "name": "ipython",
    "version": 3
   },
   "file_extension": ".py",
   "mimetype": "text/x-python",
   "name": "python",
   "nbconvert_exporter": "python",
   "pygments_lexer": "ipython3",
   "version": "3.8.5"
  }
 },
 "nbformat": 4,
 "nbformat_minor": 4
}
